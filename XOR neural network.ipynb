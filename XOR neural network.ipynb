{
  "nbformat": 4,
  "nbformat_minor": 0,
  "metadata": {
    "colab": {
      "provenance": [],
      "authorship_tag": "ABX9TyOsp6pvHdelYgQl65w/W6mj",
      "include_colab_link": true
    },
    "kernelspec": {
      "name": "python3",
      "display_name": "Python 3"
    },
    "language_info": {
      "name": "python"
    }
  },
  "cells": [
    {
      "cell_type": "markdown",
      "metadata": {
        "id": "view-in-github",
        "colab_type": "text"
      },
      "source": [
        "<a href=\"https://colab.research.google.com/github/Awynimantha/Machine-Learning/blob/main/XOR%20neural%20network.ipynb\" target=\"_parent\"><img src=\"https://colab.research.google.com/assets/colab-badge.svg\" alt=\"Open In Colab\"/></a>"
      ]
    },
    {
      "cell_type": "code",
      "source": [
        "import tensorflow as tf\n",
        "import numpy as np\n",
        "\n",
        "# XOR data\n",
        "X = np.array([[0, 0], [0, 1], [1, 0], [1, 1]], dtype=np.float32)\n",
        "Y = np.array([[0], [1], [1], [0]], dtype=np.float32)\n",
        "\n",
        "# Define the neural network model\n",
        "model = tf.keras.Sequential([\n",
        "    tf.keras.layers.Dense(2, input_shape=(2,), activation='relu'),  # Hidden layer with 2 neurons\n",
        "    tf.keras.layers.Dense(1, activation='sigmoid')  # Output layer with sigmoid for binary classification\n",
        "])\n",
        "learning_rate = 0.6 # Change this value to experiment with different learning rates\n",
        "optimizer = tf.keras.optimizers.Adam(learning_rate=learning_rate)\n",
        "# Compile the model\n",
        "model.compile(optimizer='adam', loss='binary_crossentropy', metrics=['accuracy'])\n",
        "\n",
        "# Train the model\n",
        "model.fit(X, Y, epochs=558, verbose=0)  # Training for 1000 epochs\n",
        "\n",
        "# Evaluate the model\n",
        "loss, accuracy = model.evaluate(X, Y)\n",
        "print(f\"Model accuracy: {accuracy*100:.2f}%\")\n",
        "\n",
        "# Predict the output for XOR inputs\n",
        "predictions = model.predict(X)\n",
        "print(\"Predictions:\")\n",
        "for i, prediction in enumerate(predictions):\n",
        "    print(f\"Input: {X[i]} -> Predicted: {prediction[0]:.4f} -> Rounded: {round(prediction[0])}\")\n"
      ],
      "metadata": {
        "colab": {
          "base_uri": "https://localhost:8080/"
        },
        "id": "-6oqlzUGMeys",
        "outputId": "9c9f60f0-eaa8-48c1-9c67-038358786fca"
      },
      "execution_count": 5,
      "outputs": [
        {
          "output_type": "stream",
          "name": "stderr",
          "text": [
            "WARNING:tensorflow:5 out of the last 5 calls to <function TensorFlowTrainer.make_test_function.<locals>.one_step_on_iterator at 0x7f2c54a6fe20> triggered tf.function retracing. Tracing is expensive and the excessive number of tracings could be due to (1) creating @tf.function repeatedly in a loop, (2) passing tensors with different shapes, (3) passing Python objects instead of tensors. For (1), please define your @tf.function outside of the loop. For (2), @tf.function has reduce_retracing=True option that can avoid unnecessary retracing. For (3), please refer to https://www.tensorflow.org/guide/function#controlling_retracing and https://www.tensorflow.org/api_docs/python/tf/function for  more details.\n"
          ]
        },
        {
          "output_type": "stream",
          "name": "stdout",
          "text": [
            "\u001b[1m1/1\u001b[0m \u001b[32m━━━━━━━━━━━━━━━━━━━━\u001b[0m\u001b[37m\u001b[0m \u001b[1m0s\u001b[0m 136ms/step - accuracy: 1.0000 - loss: 0.5039\n"
          ]
        },
        {
          "output_type": "stream",
          "name": "stderr",
          "text": [
            "WARNING:tensorflow:5 out of the last 5 calls to <function TensorFlowTrainer.make_predict_function.<locals>.one_step_on_data_distributed at 0x7f2c45fb43a0> triggered tf.function retracing. Tracing is expensive and the excessive number of tracings could be due to (1) creating @tf.function repeatedly in a loop, (2) passing tensors with different shapes, (3) passing Python objects instead of tensors. For (1), please define your @tf.function outside of the loop. For (2), @tf.function has reduce_retracing=True option that can avoid unnecessary retracing. For (3), please refer to https://www.tensorflow.org/guide/function#controlling_retracing and https://www.tensorflow.org/api_docs/python/tf/function for  more details.\n"
          ]
        },
        {
          "output_type": "stream",
          "name": "stdout",
          "text": [
            "Model accuracy: 100.00%\n",
            "\u001b[1m1/1\u001b[0m \u001b[32m━━━━━━━━━━━━━━━━━━━━\u001b[0m\u001b[37m\u001b[0m \u001b[1m0s\u001b[0m 49ms/step\n",
            "Predictions:\n",
            "Input: [0. 0.] -> Predicted: 0.3969 -> Rounded: 0\n",
            "Input: [0. 1.] -> Predicted: 0.6416 -> Rounded: 1\n",
            "Input: [1. 0.] -> Predicted: 0.5708 -> Rounded: 1\n",
            "Input: [1. 1.] -> Predicted: 0.3967 -> Rounded: 0\n"
          ]
        }
      ]
    },
    {
      "cell_type": "code",
      "source": [],
      "metadata": {
        "id": "wTiUfJLk-Laz"
      },
      "execution_count": null,
      "outputs": []
    }
  ]
}